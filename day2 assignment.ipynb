{
 "cells": [
  {
   "cell_type": "markdown",
   "id": "0f1a05c1-421a-4fc2-a18f-000b5d449a50",
   "metadata": {},
   "source": [
    "Q.1. What are the characteristic of Tuple? Is Tuple mutable.\n",
    "\n",
    "Answer - Tuple items are ordered items, immutable item and allow duplicate item in it. Its indexing is started from [0]. Tuple are in small bracket ()."
   ]
  },
  {
   "cell_type": "markdown",
   "id": "47387f1f-1179-4a7d-9494-f015a470f00f",
   "metadata": {},
   "source": [
    "Q2. What are the two tuple methods in python? Give an example of each method. Give a reason why\n",
    "tuples have only two in-built methods as compared to Lists.\n",
    "\n",
    "Answer - The two methods in tuple are count and index method. Count used for the find the number of element in Tuple whereas the index return the index of the element in the tuple.\n",
    "The Tuple has only two method because it is immutable in nature.\n",
    "\n"
   ]
  },
  {
   "cell_type": "code",
   "execution_count": 15,
   "id": "3e8be927-fb4a-4763-824c-61ba8decdb90",
   "metadata": {},
   "outputs": [],
   "source": [
    "## Example of method of tuple.\n",
    "A = (23, 25, 28, 'Siddhant', 'Data Science', 9.78, 25, 25)"
   ]
  },
  {
   "cell_type": "code",
   "execution_count": 19,
   "id": "941029ab-b2ef-4439-81d0-6585bc686ccb",
   "metadata": {},
   "outputs": [
    {
     "name": "stdout",
     "output_type": "stream",
     "text": [
      "3\n"
     ]
    }
   ],
   "source": [
    "Count = A.count(25)\n",
    "print( Count)"
   ]
  },
  {
   "cell_type": "code",
   "execution_count": 22,
   "id": "5559f5b1-56e2-46ab-88bd-277ebc082fb9",
   "metadata": {},
   "outputs": [
    {
     "name": "stdout",
     "output_type": "stream",
     "text": [
      "3\n"
     ]
    }
   ],
   "source": [
    "Index = A.index('Siddhant')\n",
    "print(Index)"
   ]
  },
  {
   "cell_type": "markdown",
   "id": "25fb84fa-fcf7-45a9-b338-2e67c7d8f674",
   "metadata": {},
   "source": [
    "Q3. Which collection datatypes in python do not allow duplicate items? Write a code using a set to remove\n",
    "duplicates from the given list.\n",
    "\n",
    "Answer - The Set collection of data types do not allow duplicate items. "
   ]
  },
  {
   "cell_type": "code",
   "execution_count": 24,
   "id": "70b36a42-899c-4ebb-89e6-5125a2d0a84a",
   "metadata": {},
   "outputs": [
    {
     "name": "stdout",
     "output_type": "stream",
     "text": [
      "{89, 2, 3, 67, 5, 9, 90}\n"
     ]
    }
   ],
   "source": [
    "## Example of Set\n",
    "B = {2, 3, 5, 67, 89, 67, 2, 9, 5, 90}\n",
    "print(B)\n"
   ]
  },
  {
   "cell_type": "code",
   "execution_count": 25,
   "id": "189e6dc8-a12a-40e3-8228-661045824919",
   "metadata": {},
   "outputs": [
    {
     "name": "stdout",
     "output_type": "stream",
     "text": [
      "Total elements of list [1, 1, 1, 2, 1, 3, 1, 4, 2, 1, 2, 2, 2, 3, 2, 4, 3, 1, 3, 2, 3, 3, 3, 4, 4, 1, 4, 2, 4, 3, 4, 4]\n",
      "elements in List without duplication [1, 2, 3, 4]\n"
     ]
    }
   ],
   "source": [
    "## Given list\n",
    "List = [1, 1, 1, 2, 1, 3, 1, 4, 2, 1, 2, 2, 2, 3, 2, 4, 3, 1, 3, 2, 3, 3, 3, 4, 4, 1, 4, 2, 4, 3, 4, 4]\n",
    "print('Total elements of list', List)\n",
    "## Remove the duplicates from list\n",
    "List = list(set(List))\n",
    "print('elements in List without duplication', List)\n"
   ]
  },
  {
   "cell_type": "markdown",
   "id": "e2155235-dbc0-4815-ab96-029f041e453a",
   "metadata": {},
   "source": [
    "Q4. Explain the difference between the union() and update() methods for a set. Give an example of\n",
    "each method.\n",
    "Answer - Union means all the elements present in the set. Whereas, in update adds all missing element of set."
   ]
  },
  {
   "cell_type": "code",
   "execution_count": 35,
   "id": "8bb38599-a3b6-4083-939b-97bf6f852a48",
   "metadata": {},
   "outputs": [
    {
     "name": "stdout",
     "output_type": "stream",
     "text": [
      "{45, 39, 12, 13, 95}\n",
      "{1, 2, 3, 6, 8, 9}\n",
      "{45, 39, 12, 13, 95}\n",
      "{1, 2, 3, 6, 39, 8, 9, 12, 45, 13, 95}\n"
     ]
    }
   ],
   "source": [
    "## Example of union and update\n",
    "Q = {1, 2, 6, 9, 8, 6, 3}\n",
    "P = {12, 13, 39, 45, 12, 95}\n",
    "P.union(Q)\n",
    "print(P)\n",
    "print(Q)\n",
    "Q.update(P)\n",
    "print(P)\n",
    "print(Q)"
   ]
  },
  {
   "cell_type": "markdown",
   "id": "c8e81f3a-c2c1-47eb-9c97-3c942f194a76",
   "metadata": {},
   "source": [
    "Q5. What is a dictionary? Give an example. Also, state whether a dictionary is ordered or unordered.\n",
    "\n",
    "Answer - Dictionary is used to create data set in key value pair. Dictionary is in ordered pair in python version3.7 and in earlier version version of python it is unordered."
   ]
  },
  {
   "cell_type": "markdown",
   "id": "2034bfa9-33cb-4ff0-bb5b-a27b7741d547",
   "metadata": {},
   "source": [
    "Q6. Can we create a nested dictionary? If so, please give an example by creating a simple one-level\n",
    "nested dictionary.\n",
    "Answer - yes we can create a nested python dictionary."
   ]
  },
  {
   "cell_type": "code",
   "execution_count": 38,
   "id": "09a3a272-7eff-4945-b40d-33ba07d87e0c",
   "metadata": {},
   "outputs": [
    {
     "name": "stdout",
     "output_type": "stream",
     "text": [
      "mobile set available {'mobile1': {'nokia', 'Price = 2000', 'product available'}, 'mobile2': {'Price = 5000', 'product available', 'samsung'}}\n",
      "{'nokia', 'Price = 2000', 'product available'}\n"
     ]
    }
   ],
   "source": [
    "## Example of nested python.\n",
    "Mobile = {'mobile1': {'nokia', 'Price = 2000', 'product available'}, 'mobile2':{'samsung', 'Price = 5000', 'product available'}}\n",
    "print('mobile set available', Mobile)\n",
    "print(Mobile['mobile1'])\n",
    "    "
   ]
  },
  {
   "cell_type": "markdown",
   "id": "a773d71f-fd41-4785-9530-afdce00d434a",
   "metadata": {},
   "source": [
    "Q7. Using setdefault() method, create key named topics in the given dictionary and also add the value of\n",
    "the key as this list ['Python', 'Machine Learning’, 'Deep Learning']\n",
    "\n",
    "Answer - Setdefault() method returns the value of the key if key is present, if key is not present set default method inserts a key with default value.\n"
   ]
  },
  {
   "cell_type": "code",
   "execution_count": 1,
   "id": "e5eaae38-0328-4fd5-bdb1-23300d6f53c4",
   "metadata": {},
   "outputs": [
    {
     "name": "stdout",
     "output_type": "stream",
     "text": [
      "{'language': 'Python', 'course': 'Data Science Masters', 'Python': ['Machine learning', 'Deep learning']}\n"
     ]
    }
   ],
   "source": [
    "## Example of set default method\n",
    "dict1 = {'language' : 'Python', 'course': 'Data Science Masters'}\n",
    "Python = dict1.setdefault('Python',['Machine learning','Deep learning'])\n",
    "print(dict1)\n",
    "                          "
   ]
  },
  {
   "cell_type": "markdown",
   "id": "9cab8a6c-4065-450e-a2b8-7a4b07362c93",
   "metadata": {},
   "source": [
    "Q8. What are the three view objects in dictionaries? Use the three in-built methods in python to display\n",
    "these three view objects for the given dictionary.\n",
    "Answer = The main view objects of dictionary in python are keys, values and items."
   ]
  },
  {
   "cell_type": "code",
   "execution_count": 21,
   "id": "140dc4bc-e608-4870-9078-f3784c5c0d92",
   "metadata": {},
   "outputs": [
    {
     "name": "stdout",
     "output_type": "stream",
     "text": [
      "dict_keys(['Sport', 'Teams'])\n",
      "<class 'dict_keys'>\n"
     ]
    }
   ],
   "source": [
    "## Example of Dictionary\n",
    "dict1 = {'Sport': 'Cricket' , 'Teams': ['India', 'Australia', 'England', 'South Africa', 'Sri Lanka', 'New Zealand']}\n",
    "k = dict1.keys()\n",
    "print(k)\n",
    "print(type(k))"
   ]
  },
  {
   "cell_type": "code",
   "execution_count": 19,
   "id": "3a9a3e2f-75c2-4c4d-99b5-ad033418091f",
   "metadata": {},
   "outputs": [
    {
     "name": "stdout",
     "output_type": "stream",
     "text": [
      "dict_items([('Sport', 'Cricket'), ('Teams', ['India', 'Australia', 'England', 'South Africa', 'Sri Lanka', 'New Zealand'])])\n",
      "<class 'dict_items'>\n"
     ]
    }
   ],
   "source": [
    "i = dict1.items()\n",
    "print(i)\n",
    "print(type(i))"
   ]
  },
  {
   "cell_type": "code",
   "execution_count": 20,
   "id": "7eecba55-b93f-44a6-9da9-dc787b04d225",
   "metadata": {},
   "outputs": [
    {
     "name": "stdout",
     "output_type": "stream",
     "text": [
      "dict_values(['Cricket', ['India', 'Australia', 'England', 'South Africa', 'Sri Lanka', 'New Zealand']])\n",
      "<class 'dict_values'>\n"
     ]
    }
   ],
   "source": [
    "v = dict1.values()\n",
    "print(v)\n",
    "print(type(v))"
   ]
  },
  {
   "cell_type": "code",
   "execution_count": null,
   "id": "f08d44a9-2855-4d8e-930c-58d65787dd45",
   "metadata": {},
   "outputs": [],
   "source": []
  }
 ],
 "metadata": {
  "kernelspec": {
   "display_name": "Python 3 (ipykernel)",
   "language": "python",
   "name": "python3"
  },
  "language_info": {
   "codemirror_mode": {
    "name": "ipython",
    "version": 3
   },
   "file_extension": ".py",
   "mimetype": "text/x-python",
   "name": "python",
   "nbconvert_exporter": "python",
   "pygments_lexer": "ipython3",
   "version": "3.10.8"
  }
 },
 "nbformat": 4,
 "nbformat_minor": 5
}
