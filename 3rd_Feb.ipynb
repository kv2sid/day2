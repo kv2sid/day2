{
 "cells": [
  {
   "cell_type": "markdown",
   "id": "f2d822ed-9c66-4885-95ff-b52e305cfe1d",
   "metadata": {},
   "source": [
    "Q1. Which keyword is used to create a function? Create a function to return a list of odd numbers in the\n",
    "range of 1 to 25.\n",
    "Answer The def key word is used to create function in python."
   ]
  },
  {
   "cell_type": "code",
   "execution_count": 26,
   "id": "8e2303fc-9de7-40a1-998d-c5460f2e0928",
   "metadata": {
    "tags": []
   },
   "outputs": [
    {
     "name": "stdout",
     "output_type": "stream",
     "text": [
      "1 3 5 7 9 11 13 15 17 19 21 23 25 "
     ]
    }
   ],
   "source": [
    "## a function to return a list of odd numbers in the range of 1 to 25.\n",
    "def odd(num1,num2):\n",
    "    if num1%2 != 0:\n",
    "        for i in range(num1, num2+1, 2):\n",
    "            print(i,end = ' ')\n",
    "    else:\n",
    "        for i in range(num1+1, num2+1, 2):\n",
    "            print(i, end = ' ')\n",
    "odd(1,25)"
   ]
  },
  {
   "cell_type": "markdown",
   "id": "4ebc13be-ee11-4817-817e-75dadc68450f",
   "metadata": {},
   "source": [
    "Q2. Why *args and **kwargs is used in some functions? Create a function each for *args and **kwargs to\n",
    "demonstrate their use.\n",
    "Answer - We pass a variable number of arguments to a function using a symbol *args. whereas, *kwargs is used to pass the variable length of keyword arguments to the function."
   ]
  },
  {
   "cell_type": "code",
   "execution_count": 28,
   "id": "424cc631-a2cb-4d1b-90b8-cb6d2aec4503",
   "metadata": {},
   "outputs": [
    {
     "name": "stdout",
     "output_type": "stream",
     "text": [
      "Sum: 4\n",
      "Sum: 25\n"
     ]
    }
   ],
   "source": [
    "## example of *args \n",
    "\n",
    "def adder(*num):\n",
    "    sum = 0\n",
    "    \n",
    "    for n in num:\n",
    "        sum = sum + n\n",
    "    print('Sum:', sum)    \n",
    "\n",
    "adder(1,3)\n",
    "adder(4,5,7,9)"
   ]
  },
  {
   "cell_type": "code",
   "execution_count": 31,
   "id": "d254ebd1-bb28-498f-aef9-2dff12c3d822",
   "metadata": {},
   "outputs": [
    {
     "name": "stdout",
     "output_type": "stream",
     "text": [
      "\n",
      " type of argument <class 'dict'>\n",
      "firstname is Siddhant\n",
      "Lastname is Kumar\n",
      "contact is 7993447689\n",
      "age is 29\n",
      "\n",
      " type of argument <class 'dict'>\n",
      "firstname is Sunny\n",
      "Lastname is kumar\n",
      "contact is 7992443678\n",
      "age is 13\n"
     ]
    }
   ],
   "source": [
    "## example of **kwargs\n",
    "def record(**data):\n",
    "    print('\\n type of argument', type(data))\n",
    "    for key, value in data.items():\n",
    "        print('{} is {}'.format(key, value))\n",
    "record( firstname = 'Siddhant', Lastname = 'Kumar', contact = '7993447689', age = 29)\n",
    "record(firstname = 'Sunny', Lastname = 'kumar', contact = '7992443678', age = 13)"
   ]
  },
  {
   "cell_type": "markdown",
   "id": "3267956a-6553-4174-9843-dcc87cc2d31f",
   "metadata": {},
   "source": [
    "Q3. What is an iterator in python? Name the method used to initialise the iterator object and the method\n",
    "used for iteration. Use these methods to print the first five elements of the given list [2, 4, 6, 8, 10, 12, 14, 16,\n",
    "18, 20].\n",
    "Answer - An iterator is an object that contains a countable number of values. For an object to be an iterator it must implement two methods:\n",
    "1)iter\n",
    "2)next"
   ]
  },
  {
   "cell_type": "code",
   "execution_count": 53,
   "id": "01e5b080-d4c7-4fcf-9019-d7fec76d5556",
   "metadata": {},
   "outputs": [
    {
     "name": "stdout",
     "output_type": "stream",
     "text": [
      "2\n",
      "4\n",
      "6\n",
      "8\n",
      "10\n"
     ]
    }
   ],
   "source": [
    "\"\"\" Use these methods to print the first five elements of the given list [2, 4, 6, 8, 10, 12, 14, 16,\n",
    "18, 20].\"\"\"\n",
    "\n",
    "my_list = [2, 4, 6, 8, 10, 12, 14, 16, 18, 20]\n",
    "x = slice(0,5)\n",
    "y = list(my_list[x])\n",
    "\n",
    "\n",
    "iterator = iter(y)\n",
    "\n",
    "for n in iterator:\n",
    "    print(n)\n",
    "    \n",
    "    \n",
    "    "
   ]
  },
  {
   "cell_type": "markdown",
   "id": "df663cfe-2d21-4c14-971b-e65f0537ed2e",
   "metadata": {},
   "source": [
    "Q4. What is a generator function in python? Why yield keyword is used? Give an example of a generator\n",
    "function.\n",
    "Answer - a generator is a function that returns an iterator that produces a sequence of values when iterated over. Generators are useful when we want to produce a large sequence of values, but we don't want to store all of them in memory at once.The yield statement returns a generator object to the one who calls the function which contains yield, instead of simply returning a value."
   ]
  },
  {
   "cell_type": "code",
   "execution_count": 61,
   "id": "7448d18e-cd40-418b-a6fc-c589db767bf6",
   "metadata": {},
   "outputs": [
    {
     "name": "stdout",
     "output_type": "stream",
     "text": [
      "0\n",
      "1\n",
      "1\n",
      "2\n",
      "3\n",
      "5\n",
      "8\n",
      "13\n",
      "21\n",
      "34\n"
     ]
    }
   ],
   "source": [
    "## Give an example of a generator function.\n",
    "\n",
    "def generator_fibonacci(n):\n",
    "    x,y = 0 , 1\n",
    "    for i in range(n):\n",
    "        yield x\n",
    "        x, y = y, x+y\n",
    "\n",
    "for i in generator_fibonacci(10):\n",
    "    print(i)"
   ]
  },
  {
   "cell_type": "markdown",
   "id": "d3344105-6a1a-472a-b756-06e161323b5a",
   "metadata": {},
   "source": [
    "Q5. Create a generator function for prime numbers less than 1000. Use the next() method to print the\n",
    "first 20 prime numbers."
   ]
  },
  {
   "cell_type": "code",
   "execution_count": 5,
   "id": "b411b729-51f0-4308-8e57-8a1b70adc27d",
   "metadata": {},
   "outputs": [
    {
     "data": {
      "text/plain": [
       "[2]"
      ]
     },
     "execution_count": 5,
     "metadata": {},
     "output_type": "execute_result"
    }
   ],
   "source": [
    "def prime():\n",
    "    lower = 2\n",
    "    upper = 1001\n",
    "    for num in range(lower, 1001):\n",
    "        if num > 1:\n",
    "            for i in range(2, num):\n",
    "                   if (num % i) == 0:\n",
    "                           break\n",
    "            else:\n",
    "                   yield(num)    \n",
    "\n",
    "for i in prime():\n",
    "    print(i)\n",
    "    \n"
   ]
  },
  {
   "cell_type": "code",
   "execution_count": 44,
   "id": "ca17d301-c842-4f4f-9ce3-daeb80d7153c",
   "metadata": {},
   "outputs": [
    {
     "name": "stdout",
     "output_type": "stream",
     "text": [
      "[2, 3, 5, 7, 11, 13, 17, 19]\n"
     ]
    }
   ],
   "source": [
    "\n",
    "def prime(x, y):\n",
    "\tprime_list = []\n",
    "\tfor i in range(x, y):\n",
    "\t\tif i == 0 or i == 1:\n",
    "\t\t\tcontinue\n",
    "\t\telse:\n",
    "\t\t\tfor j in range(2, int(i/2)+1):\n",
    "\t\t\t\tif i % j == 0:\n",
    "\t\t\t\t\tbreak\n",
    "\t\t\telse:\n",
    "\t\t\t\tprime_list.append(i)\n",
    "\treturn prime_list\n",
    "\n",
    "starting_range = 2\n",
    "ending_range = 20\n",
    "lst = prime(starting_range, ending_range)\n",
    "if len(lst) == 0:\n",
    "\tprint(\"There are no prime numbers in this range\")\n",
    "else:\n",
    "    if type(lst) == list():\n",
    "        iteration == iter(lst)\n",
    "        for i in lst():\n",
    "            print(next(iteration))\n",
    "\n",
    "print(lst)\n",
    "     \n"
   ]
  },
  {
   "cell_type": "code",
   "execution_count": null,
   "id": "cba87323-610e-4d30-8729-2b51cbb05f03",
   "metadata": {},
   "outputs": [],
   "source": []
  },
  {
   "cell_type": "code",
   "execution_count": null,
   "id": "0b2a242b-d25f-45da-80de-61ea8327b9a3",
   "metadata": {},
   "outputs": [],
   "source": []
  }
 ],
 "metadata": {
  "kernelspec": {
   "display_name": "Python 3 (ipykernel)",
   "language": "python",
   "name": "python3"
  },
  "language_info": {
   "codemirror_mode": {
    "name": "ipython",
    "version": 3
   },
   "file_extension": ".py",
   "mimetype": "text/x-python",
   "name": "python",
   "nbconvert_exporter": "python",
   "pygments_lexer": "ipython3",
   "version": "3.10.8"
  }
 },
 "nbformat": 4,
 "nbformat_minor": 5
}
